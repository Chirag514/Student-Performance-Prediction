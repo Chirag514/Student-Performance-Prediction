{
  "cells": [
    {
      "cell_type": "code",
      "execution_count": null,
      "id": "98ce242e-74cb-4ce4-bb8e-d3f268a8d7b2",
      "metadata": {
        "id": "98ce242e-74cb-4ce4-bb8e-d3f268a8d7b2"
      },
      "outputs": [],
      "source": [
        "import numpy as np\n",
        "import pandas as pd\n",
        "import matplotlib.pyplot as plt"
      ]
    },
    {
      "cell_type": "code",
      "execution_count": null,
      "id": "13780416-8e89-4c3d-91d7-bc79c0fbe2dd",
      "metadata": {
        "id": "13780416-8e89-4c3d-91d7-bc79c0fbe2dd"
      },
      "outputs": [],
      "source": [
        "data=pd.read_csv(\"Student_performance_data _.csv\")"
      ]
    },
    {
      "cell_type": "code",
      "execution_count": null,
      "id": "86c61171-6bd3-4872-8751-d989e6493130",
      "metadata": {
        "id": "86c61171-6bd3-4872-8751-d989e6493130",
        "outputId": "1c28d0fc-b8ff-4b7d-e70c-83c7a01a30ff",
        "colab": {
          "base_uri": "https://localhost:8080/",
          "height": 226
        }
      },
      "outputs": [
        {
          "output_type": "execute_result",
          "data": {
            "text/plain": [
              "      StudentID  Age  Gender  Ethnicity  ParentalEducation  StudyTimeWeekly  \\\n",
              "1922       2923   18       0          3                  3        18.731312   \n",
              "1229       2230   17       1          0                  2         4.185755   \n",
              "2186       3187   15       1          3                  1         8.384985   \n",
              "398        1399   18       1          2                  1         0.167094   \n",
              "1336       2337   17       0          0                  0        14.252028   \n",
              "\n",
              "      Absences  Tutoring  ParentalSupport  Extracurricular  Sports  Music  \\\n",
              "1922        12         0                2                1       0      0   \n",
              "1229         0         0                2                1       1      0   \n",
              "2186        19         1                2                1       1      0   \n",
              "398         17         1                3                1       0      0   \n",
              "1336         8         0                3                0       0      0   \n",
              "\n",
              "      Volunteering       GPA  GradeClass  \n",
              "1922             0  2.234696         3.0  \n",
              "1229             0  3.343051         1.0  \n",
              "2186             0  1.557870         3.0  \n",
              "398              1  1.868759         4.0  \n",
              "1336             0  2.791386         2.0  "
            ],
            "text/html": [
              "\n",
              "  <div id=\"df-2549d493-b72d-42f7-8b89-3d3a33699244\" class=\"colab-df-container\">\n",
              "    <div>\n",
              "<style scoped>\n",
              "    .dataframe tbody tr th:only-of-type {\n",
              "        vertical-align: middle;\n",
              "    }\n",
              "\n",
              "    .dataframe tbody tr th {\n",
              "        vertical-align: top;\n",
              "    }\n",
              "\n",
              "    .dataframe thead th {\n",
              "        text-align: right;\n",
              "    }\n",
              "</style>\n",
              "<table border=\"1\" class=\"dataframe\">\n",
              "  <thead>\n",
              "    <tr style=\"text-align: right;\">\n",
              "      <th></th>\n",
              "      <th>StudentID</th>\n",
              "      <th>Age</th>\n",
              "      <th>Gender</th>\n",
              "      <th>Ethnicity</th>\n",
              "      <th>ParentalEducation</th>\n",
              "      <th>StudyTimeWeekly</th>\n",
              "      <th>Absences</th>\n",
              "      <th>Tutoring</th>\n",
              "      <th>ParentalSupport</th>\n",
              "      <th>Extracurricular</th>\n",
              "      <th>Sports</th>\n",
              "      <th>Music</th>\n",
              "      <th>Volunteering</th>\n",
              "      <th>GPA</th>\n",
              "      <th>GradeClass</th>\n",
              "    </tr>\n",
              "  </thead>\n",
              "  <tbody>\n",
              "    <tr>\n",
              "      <th>1922</th>\n",
              "      <td>2923</td>\n",
              "      <td>18</td>\n",
              "      <td>0</td>\n",
              "      <td>3</td>\n",
              "      <td>3</td>\n",
              "      <td>18.731312</td>\n",
              "      <td>12</td>\n",
              "      <td>0</td>\n",
              "      <td>2</td>\n",
              "      <td>1</td>\n",
              "      <td>0</td>\n",
              "      <td>0</td>\n",
              "      <td>0</td>\n",
              "      <td>2.234696</td>\n",
              "      <td>3.0</td>\n",
              "    </tr>\n",
              "    <tr>\n",
              "      <th>1229</th>\n",
              "      <td>2230</td>\n",
              "      <td>17</td>\n",
              "      <td>1</td>\n",
              "      <td>0</td>\n",
              "      <td>2</td>\n",
              "      <td>4.185755</td>\n",
              "      <td>0</td>\n",
              "      <td>0</td>\n",
              "      <td>2</td>\n",
              "      <td>1</td>\n",
              "      <td>1</td>\n",
              "      <td>0</td>\n",
              "      <td>0</td>\n",
              "      <td>3.343051</td>\n",
              "      <td>1.0</td>\n",
              "    </tr>\n",
              "    <tr>\n",
              "      <th>2186</th>\n",
              "      <td>3187</td>\n",
              "      <td>15</td>\n",
              "      <td>1</td>\n",
              "      <td>3</td>\n",
              "      <td>1</td>\n",
              "      <td>8.384985</td>\n",
              "      <td>19</td>\n",
              "      <td>1</td>\n",
              "      <td>2</td>\n",
              "      <td>1</td>\n",
              "      <td>1</td>\n",
              "      <td>0</td>\n",
              "      <td>0</td>\n",
              "      <td>1.557870</td>\n",
              "      <td>3.0</td>\n",
              "    </tr>\n",
              "    <tr>\n",
              "      <th>398</th>\n",
              "      <td>1399</td>\n",
              "      <td>18</td>\n",
              "      <td>1</td>\n",
              "      <td>2</td>\n",
              "      <td>1</td>\n",
              "      <td>0.167094</td>\n",
              "      <td>17</td>\n",
              "      <td>1</td>\n",
              "      <td>3</td>\n",
              "      <td>1</td>\n",
              "      <td>0</td>\n",
              "      <td>0</td>\n",
              "      <td>1</td>\n",
              "      <td>1.868759</td>\n",
              "      <td>4.0</td>\n",
              "    </tr>\n",
              "    <tr>\n",
              "      <th>1336</th>\n",
              "      <td>2337</td>\n",
              "      <td>17</td>\n",
              "      <td>0</td>\n",
              "      <td>0</td>\n",
              "      <td>0</td>\n",
              "      <td>14.252028</td>\n",
              "      <td>8</td>\n",
              "      <td>0</td>\n",
              "      <td>3</td>\n",
              "      <td>0</td>\n",
              "      <td>0</td>\n",
              "      <td>0</td>\n",
              "      <td>0</td>\n",
              "      <td>2.791386</td>\n",
              "      <td>2.0</td>\n",
              "    </tr>\n",
              "  </tbody>\n",
              "</table>\n",
              "</div>\n",
              "    <div class=\"colab-df-buttons\">\n",
              "\n",
              "  <div class=\"colab-df-container\">\n",
              "    <button class=\"colab-df-convert\" onclick=\"convertToInteractive('df-2549d493-b72d-42f7-8b89-3d3a33699244')\"\n",
              "            title=\"Convert this dataframe to an interactive table.\"\n",
              "            style=\"display:none;\">\n",
              "\n",
              "  <svg xmlns=\"http://www.w3.org/2000/svg\" height=\"24px\" viewBox=\"0 -960 960 960\">\n",
              "    <path d=\"M120-120v-720h720v720H120Zm60-500h600v-160H180v160Zm220 220h160v-160H400v160Zm0 220h160v-160H400v160ZM180-400h160v-160H180v160Zm440 0h160v-160H620v160ZM180-180h160v-160H180v160Zm440 0h160v-160H620v160Z\"/>\n",
              "  </svg>\n",
              "    </button>\n",
              "\n",
              "  <style>\n",
              "    .colab-df-container {\n",
              "      display:flex;\n",
              "      gap: 12px;\n",
              "    }\n",
              "\n",
              "    .colab-df-convert {\n",
              "      background-color: #E8F0FE;\n",
              "      border: none;\n",
              "      border-radius: 50%;\n",
              "      cursor: pointer;\n",
              "      display: none;\n",
              "      fill: #1967D2;\n",
              "      height: 32px;\n",
              "      padding: 0 0 0 0;\n",
              "      width: 32px;\n",
              "    }\n",
              "\n",
              "    .colab-df-convert:hover {\n",
              "      background-color: #E2EBFA;\n",
              "      box-shadow: 0px 1px 2px rgba(60, 64, 67, 0.3), 0px 1px 3px 1px rgba(60, 64, 67, 0.15);\n",
              "      fill: #174EA6;\n",
              "    }\n",
              "\n",
              "    .colab-df-buttons div {\n",
              "      margin-bottom: 4px;\n",
              "    }\n",
              "\n",
              "    [theme=dark] .colab-df-convert {\n",
              "      background-color: #3B4455;\n",
              "      fill: #D2E3FC;\n",
              "    }\n",
              "\n",
              "    [theme=dark] .colab-df-convert:hover {\n",
              "      background-color: #434B5C;\n",
              "      box-shadow: 0px 1px 3px 1px rgba(0, 0, 0, 0.15);\n",
              "      filter: drop-shadow(0px 1px 2px rgba(0, 0, 0, 0.3));\n",
              "      fill: #FFFFFF;\n",
              "    }\n",
              "  </style>\n",
              "\n",
              "    <script>\n",
              "      const buttonEl =\n",
              "        document.querySelector('#df-2549d493-b72d-42f7-8b89-3d3a33699244 button.colab-df-convert');\n",
              "      buttonEl.style.display =\n",
              "        google.colab.kernel.accessAllowed ? 'block' : 'none';\n",
              "\n",
              "      async function convertToInteractive(key) {\n",
              "        const element = document.querySelector('#df-2549d493-b72d-42f7-8b89-3d3a33699244');\n",
              "        const dataTable =\n",
              "          await google.colab.kernel.invokeFunction('convertToInteractive',\n",
              "                                                    [key], {});\n",
              "        if (!dataTable) return;\n",
              "\n",
              "        const docLinkHtml = 'Like what you see? Visit the ' +\n",
              "          '<a target=\"_blank\" href=https://colab.research.google.com/notebooks/data_table.ipynb>data table notebook</a>'\n",
              "          + ' to learn more about interactive tables.';\n",
              "        element.innerHTML = '';\n",
              "        dataTable['output_type'] = 'display_data';\n",
              "        await google.colab.output.renderOutput(dataTable, element);\n",
              "        const docLink = document.createElement('div');\n",
              "        docLink.innerHTML = docLinkHtml;\n",
              "        element.appendChild(docLink);\n",
              "      }\n",
              "    </script>\n",
              "  </div>\n",
              "\n",
              "\n",
              "<div id=\"df-0a74887b-6254-4c25-abb3-4478491d67b4\">\n",
              "  <button class=\"colab-df-quickchart\" onclick=\"quickchart('df-0a74887b-6254-4c25-abb3-4478491d67b4')\"\n",
              "            title=\"Suggest charts\"\n",
              "            style=\"display:none;\">\n",
              "\n",
              "<svg xmlns=\"http://www.w3.org/2000/svg\" height=\"24px\"viewBox=\"0 0 24 24\"\n",
              "     width=\"24px\">\n",
              "    <g>\n",
              "        <path d=\"M19 3H5c-1.1 0-2 .9-2 2v14c0 1.1.9 2 2 2h14c1.1 0 2-.9 2-2V5c0-1.1-.9-2-2-2zM9 17H7v-7h2v7zm4 0h-2V7h2v10zm4 0h-2v-4h2v4z\"/>\n",
              "    </g>\n",
              "</svg>\n",
              "  </button>\n",
              "\n",
              "<style>\n",
              "  .colab-df-quickchart {\n",
              "      --bg-color: #E8F0FE;\n",
              "      --fill-color: #1967D2;\n",
              "      --hover-bg-color: #E2EBFA;\n",
              "      --hover-fill-color: #174EA6;\n",
              "      --disabled-fill-color: #AAA;\n",
              "      --disabled-bg-color: #DDD;\n",
              "  }\n",
              "\n",
              "  [theme=dark] .colab-df-quickchart {\n",
              "      --bg-color: #3B4455;\n",
              "      --fill-color: #D2E3FC;\n",
              "      --hover-bg-color: #434B5C;\n",
              "      --hover-fill-color: #FFFFFF;\n",
              "      --disabled-bg-color: #3B4455;\n",
              "      --disabled-fill-color: #666;\n",
              "  }\n",
              "\n",
              "  .colab-df-quickchart {\n",
              "    background-color: var(--bg-color);\n",
              "    border: none;\n",
              "    border-radius: 50%;\n",
              "    cursor: pointer;\n",
              "    display: none;\n",
              "    fill: var(--fill-color);\n",
              "    height: 32px;\n",
              "    padding: 0;\n",
              "    width: 32px;\n",
              "  }\n",
              "\n",
              "  .colab-df-quickchart:hover {\n",
              "    background-color: var(--hover-bg-color);\n",
              "    box-shadow: 0 1px 2px rgba(60, 64, 67, 0.3), 0 1px 3px 1px rgba(60, 64, 67, 0.15);\n",
              "    fill: var(--button-hover-fill-color);\n",
              "  }\n",
              "\n",
              "  .colab-df-quickchart-complete:disabled,\n",
              "  .colab-df-quickchart-complete:disabled:hover {\n",
              "    background-color: var(--disabled-bg-color);\n",
              "    fill: var(--disabled-fill-color);\n",
              "    box-shadow: none;\n",
              "  }\n",
              "\n",
              "  .colab-df-spinner {\n",
              "    border: 2px solid var(--fill-color);\n",
              "    border-color: transparent;\n",
              "    border-bottom-color: var(--fill-color);\n",
              "    animation:\n",
              "      spin 1s steps(1) infinite;\n",
              "  }\n",
              "\n",
              "  @keyframes spin {\n",
              "    0% {\n",
              "      border-color: transparent;\n",
              "      border-bottom-color: var(--fill-color);\n",
              "      border-left-color: var(--fill-color);\n",
              "    }\n",
              "    20% {\n",
              "      border-color: transparent;\n",
              "      border-left-color: var(--fill-color);\n",
              "      border-top-color: var(--fill-color);\n",
              "    }\n",
              "    30% {\n",
              "      border-color: transparent;\n",
              "      border-left-color: var(--fill-color);\n",
              "      border-top-color: var(--fill-color);\n",
              "      border-right-color: var(--fill-color);\n",
              "    }\n",
              "    40% {\n",
              "      border-color: transparent;\n",
              "      border-right-color: var(--fill-color);\n",
              "      border-top-color: var(--fill-color);\n",
              "    }\n",
              "    60% {\n",
              "      border-color: transparent;\n",
              "      border-right-color: var(--fill-color);\n",
              "    }\n",
              "    80% {\n",
              "      border-color: transparent;\n",
              "      border-right-color: var(--fill-color);\n",
              "      border-bottom-color: var(--fill-color);\n",
              "    }\n",
              "    90% {\n",
              "      border-color: transparent;\n",
              "      border-bottom-color: var(--fill-color);\n",
              "    }\n",
              "  }\n",
              "</style>\n",
              "\n",
              "  <script>\n",
              "    async function quickchart(key) {\n",
              "      const quickchartButtonEl =\n",
              "        document.querySelector('#' + key + ' button');\n",
              "      quickchartButtonEl.disabled = true;  // To prevent multiple clicks.\n",
              "      quickchartButtonEl.classList.add('colab-df-spinner');\n",
              "      try {\n",
              "        const charts = await google.colab.kernel.invokeFunction(\n",
              "            'suggestCharts', [key], {});\n",
              "      } catch (error) {\n",
              "        console.error('Error during call to suggestCharts:', error);\n",
              "      }\n",
              "      quickchartButtonEl.classList.remove('colab-df-spinner');\n",
              "      quickchartButtonEl.classList.add('colab-df-quickchart-complete');\n",
              "    }\n",
              "    (() => {\n",
              "      let quickchartButtonEl =\n",
              "        document.querySelector('#df-0a74887b-6254-4c25-abb3-4478491d67b4 button');\n",
              "      quickchartButtonEl.style.display =\n",
              "        google.colab.kernel.accessAllowed ? 'block' : 'none';\n",
              "    })();\n",
              "  </script>\n",
              "</div>\n",
              "\n",
              "    </div>\n",
              "  </div>\n"
            ],
            "application/vnd.google.colaboratory.intrinsic+json": {
              "type": "dataframe",
              "summary": "{\n  \"name\": \"data\",\n  \"rows\": 5,\n  \"fields\": [\n    {\n      \"column\": \"StudentID\",\n      \"properties\": {\n        \"dtype\": \"number\",\n        \"std\": 694,\n        \"min\": 1399,\n        \"max\": 3187,\n        \"num_unique_values\": 5,\n        \"samples\": [\n          2230,\n          2337,\n          3187\n        ],\n        \"semantic_type\": \"\",\n        \"description\": \"\"\n      }\n    },\n    {\n      \"column\": \"Age\",\n      \"properties\": {\n        \"dtype\": \"number\",\n        \"std\": 1,\n        \"min\": 15,\n        \"max\": 18,\n        \"num_unique_values\": 3,\n        \"samples\": [\n          18,\n          17,\n          15\n        ],\n        \"semantic_type\": \"\",\n        \"description\": \"\"\n      }\n    },\n    {\n      \"column\": \"Gender\",\n      \"properties\": {\n        \"dtype\": \"number\",\n        \"std\": 0,\n        \"min\": 0,\n        \"max\": 1,\n        \"num_unique_values\": 2,\n        \"samples\": [\n          1,\n          0\n        ],\n        \"semantic_type\": \"\",\n        \"description\": \"\"\n      }\n    },\n    {\n      \"column\": \"Ethnicity\",\n      \"properties\": {\n        \"dtype\": \"number\",\n        \"std\": 1,\n        \"min\": 0,\n        \"max\": 3,\n        \"num_unique_values\": 3,\n        \"samples\": [\n          3,\n          0\n        ],\n        \"semantic_type\": \"\",\n        \"description\": \"\"\n      }\n    },\n    {\n      \"column\": \"ParentalEducation\",\n      \"properties\": {\n        \"dtype\": \"number\",\n        \"std\": 1,\n        \"min\": 0,\n        \"max\": 3,\n        \"num_unique_values\": 4,\n        \"samples\": [\n          2,\n          0\n        ],\n        \"semantic_type\": \"\",\n        \"description\": \"\"\n      }\n    },\n    {\n      \"column\": \"StudyTimeWeekly\",\n      \"properties\": {\n        \"dtype\": \"number\",\n        \"std\": 7.479198518875664,\n        \"min\": 0.1670940834427714,\n        \"max\": 18.73131223316012,\n        \"num_unique_values\": 5,\n        \"samples\": [\n          4.185755230602397,\n          14.252028145967865\n        ],\n        \"semantic_type\": \"\",\n        \"description\": \"\"\n      }\n    },\n    {\n      \"column\": \"Absences\",\n      \"properties\": {\n        \"dtype\": \"number\",\n        \"std\": 7,\n        \"min\": 0,\n        \"max\": 19,\n        \"num_unique_values\": 5,\n        \"samples\": [\n          0,\n          8\n        ],\n        \"semantic_type\": \"\",\n        \"description\": \"\"\n      }\n    },\n    {\n      \"column\": \"Tutoring\",\n      \"properties\": {\n        \"dtype\": \"number\",\n        \"std\": 0,\n        \"min\": 0,\n        \"max\": 1,\n        \"num_unique_values\": 2,\n        \"samples\": [\n          1,\n          0\n        ],\n        \"semantic_type\": \"\",\n        \"description\": \"\"\n      }\n    },\n    {\n      \"column\": \"ParentalSupport\",\n      \"properties\": {\n        \"dtype\": \"number\",\n        \"std\": 0,\n        \"min\": 2,\n        \"max\": 3,\n        \"num_unique_values\": 2,\n        \"samples\": [\n          3,\n          2\n        ],\n        \"semantic_type\": \"\",\n        \"description\": \"\"\n      }\n    },\n    {\n      \"column\": \"Extracurricular\",\n      \"properties\": {\n        \"dtype\": \"number\",\n        \"std\": 0,\n        \"min\": 0,\n        \"max\": 1,\n        \"num_unique_values\": 2,\n        \"samples\": [\n          0,\n          1\n        ],\n        \"semantic_type\": \"\",\n        \"description\": \"\"\n      }\n    },\n    {\n      \"column\": \"Sports\",\n      \"properties\": {\n        \"dtype\": \"number\",\n        \"std\": 0,\n        \"min\": 0,\n        \"max\": 1,\n        \"num_unique_values\": 2,\n        \"samples\": [\n          1,\n          0\n        ],\n        \"semantic_type\": \"\",\n        \"description\": \"\"\n      }\n    },\n    {\n      \"column\": \"Music\",\n      \"properties\": {\n        \"dtype\": \"number\",\n        \"std\": 0,\n        \"min\": 0,\n        \"max\": 0,\n        \"num_unique_values\": 1,\n        \"samples\": [\n          0\n        ],\n        \"semantic_type\": \"\",\n        \"description\": \"\"\n      }\n    },\n    {\n      \"column\": \"Volunteering\",\n      \"properties\": {\n        \"dtype\": \"number\",\n        \"std\": 0,\n        \"min\": 0,\n        \"max\": 1,\n        \"num_unique_values\": 2,\n        \"samples\": [\n          1\n        ],\n        \"semantic_type\": \"\",\n        \"description\": \"\"\n      }\n    },\n    {\n      \"column\": \"GPA\",\n      \"properties\": {\n        \"dtype\": \"number\",\n        \"std\": 0.7163990289467962,\n        \"min\": 1.5578704926030598,\n        \"max\": 3.343050864114286,\n        \"num_unique_values\": 5,\n        \"samples\": [\n          3.343050864114286\n        ],\n        \"semantic_type\": \"\",\n        \"description\": \"\"\n      }\n    },\n    {\n      \"column\": \"GradeClass\",\n      \"properties\": {\n        \"dtype\": \"number\",\n        \"std\": 1.140175425099138,\n        \"min\": 1.0,\n        \"max\": 4.0,\n        \"num_unique_values\": 4,\n        \"samples\": [\n          1.0\n        ],\n        \"semantic_type\": \"\",\n        \"description\": \"\"\n      }\n    }\n  ]\n}"
            }
          },
          "metadata": {},
          "execution_count": 7
        }
      ],
      "source": [
        "data.sample(5)"
      ]
    },
    {
      "cell_type": "code",
      "execution_count": null,
      "id": "e9376bd1-0265-4977-a863-7e2c377d2271",
      "metadata": {
        "id": "e9376bd1-0265-4977-a863-7e2c377d2271",
        "outputId": "c7492062-b14e-4377-8494-d1017f28aafd",
        "colab": {
          "base_uri": "https://localhost:8080/",
          "height": 574
        }
      },
      "outputs": [
        {
          "output_type": "execute_result",
          "data": {
            "text/plain": [
              "StudentID            0\n",
              "Age                  0\n",
              "Gender               0\n",
              "Ethnicity            0\n",
              "ParentalEducation    0\n",
              "StudyTimeWeekly      0\n",
              "Absences             0\n",
              "Tutoring             0\n",
              "ParentalSupport      0\n",
              "Extracurricular      0\n",
              "Sports               0\n",
              "Music                0\n",
              "Volunteering         0\n",
              "GPA                  0\n",
              "GradeClass           0\n",
              "dtype: int64"
            ],
            "text/html": [
              "<div>\n",
              "<style scoped>\n",
              "    .dataframe tbody tr th:only-of-type {\n",
              "        vertical-align: middle;\n",
              "    }\n",
              "\n",
              "    .dataframe tbody tr th {\n",
              "        vertical-align: top;\n",
              "    }\n",
              "\n",
              "    .dataframe thead th {\n",
              "        text-align: right;\n",
              "    }\n",
              "</style>\n",
              "<table border=\"1\" class=\"dataframe\">\n",
              "  <thead>\n",
              "    <tr style=\"text-align: right;\">\n",
              "      <th></th>\n",
              "      <th>0</th>\n",
              "    </tr>\n",
              "  </thead>\n",
              "  <tbody>\n",
              "    <tr>\n",
              "      <th>StudentID</th>\n",
              "      <td>0</td>\n",
              "    </tr>\n",
              "    <tr>\n",
              "      <th>Age</th>\n",
              "      <td>0</td>\n",
              "    </tr>\n",
              "    <tr>\n",
              "      <th>Gender</th>\n",
              "      <td>0</td>\n",
              "    </tr>\n",
              "    <tr>\n",
              "      <th>Ethnicity</th>\n",
              "      <td>0</td>\n",
              "    </tr>\n",
              "    <tr>\n",
              "      <th>ParentalEducation</th>\n",
              "      <td>0</td>\n",
              "    </tr>\n",
              "    <tr>\n",
              "      <th>StudyTimeWeekly</th>\n",
              "      <td>0</td>\n",
              "    </tr>\n",
              "    <tr>\n",
              "      <th>Absences</th>\n",
              "      <td>0</td>\n",
              "    </tr>\n",
              "    <tr>\n",
              "      <th>Tutoring</th>\n",
              "      <td>0</td>\n",
              "    </tr>\n",
              "    <tr>\n",
              "      <th>ParentalSupport</th>\n",
              "      <td>0</td>\n",
              "    </tr>\n",
              "    <tr>\n",
              "      <th>Extracurricular</th>\n",
              "      <td>0</td>\n",
              "    </tr>\n",
              "    <tr>\n",
              "      <th>Sports</th>\n",
              "      <td>0</td>\n",
              "    </tr>\n",
              "    <tr>\n",
              "      <th>Music</th>\n",
              "      <td>0</td>\n",
              "    </tr>\n",
              "    <tr>\n",
              "      <th>Volunteering</th>\n",
              "      <td>0</td>\n",
              "    </tr>\n",
              "    <tr>\n",
              "      <th>GPA</th>\n",
              "      <td>0</td>\n",
              "    </tr>\n",
              "    <tr>\n",
              "      <th>GradeClass</th>\n",
              "      <td>0</td>\n",
              "    </tr>\n",
              "  </tbody>\n",
              "</table>\n",
              "</div><br><label><b>dtype:</b> int64</label>"
            ]
          },
          "metadata": {},
          "execution_count": 9
        }
      ],
      "source": [
        "data.isna().sum()"
      ]
    },
    {
      "cell_type": "markdown",
      "source": [],
      "metadata": {
        "id": "GYBXmu-hF3fS"
      },
      "id": "GYBXmu-hF3fS"
    },
    {
      "cell_type": "code",
      "execution_count": null,
      "id": "4d44c3e8-6906-49a7-b8f5-741a6f1600d3",
      "metadata": {
        "id": "4d44c3e8-6906-49a7-b8f5-741a6f1600d3",
        "outputId": "d56e7f0e-7175-48de-c98f-30a1bd499055",
        "colab": {
          "base_uri": "https://localhost:8080/"
        }
      },
      "outputs": [
        {
          "output_type": "execute_result",
          "data": {
            "text/plain": [
              "Index(['StudentID', 'Age', 'Gender', 'Ethnicity', 'ParentalEducation',\n",
              "       'StudyTimeWeekly', 'Absences', 'Tutoring', 'ParentalSupport',\n",
              "       'Extracurricular', 'Sports', 'Music', 'Volunteering', 'GPA',\n",
              "       'GradeClass'],\n",
              "      dtype='object')"
            ]
          },
          "metadata": {},
          "execution_count": 10
        }
      ],
      "source": [
        "data.columns"
      ]
    },
    {
      "cell_type": "code",
      "source": [
        "for col in data.columns:\n",
        "    print(data[col].value_counts())"
      ],
      "metadata": {
        "colab": {
          "base_uri": "https://localhost:8080/"
        },
        "id": "HRNwmvXC1fTU",
        "outputId": "7e91744c-35de-4a5a-a5c7-49587f99435a"
      },
      "id": "HRNwmvXC1fTU",
      "execution_count": null,
      "outputs": [
        {
          "output_type": "stream",
          "name": "stdout",
          "text": [
            "StudentID\n",
            "1001    1\n",
            "2590    1\n",
            "2592    1\n",
            "2593    1\n",
            "2594    1\n",
            "       ..\n",
            "1798    1\n",
            "1799    1\n",
            "1800    1\n",
            "1801    1\n",
            "3392    1\n",
            "Name: count, Length: 2392, dtype: int64\n",
            "Age\n",
            "15    630\n",
            "16    593\n",
            "17    587\n",
            "18    582\n",
            "Name: count, dtype: int64\n",
            "Gender\n",
            "1    1222\n",
            "0    1170\n",
            "Name: count, dtype: int64\n",
            "Ethnicity\n",
            "0    1207\n",
            "1     493\n",
            "2     470\n",
            "3     222\n",
            "Name: count, dtype: int64\n",
            "ParentalEducation\n",
            "2    934\n",
            "1    728\n",
            "3    367\n",
            "0    243\n",
            "4    120\n",
            "Name: count, dtype: int64\n",
            "StudyTimeWeekly\n",
            "19.833723    1\n",
            "16.082185    1\n",
            "2.543624     1\n",
            "7.971184     1\n",
            "3.403053     1\n",
            "            ..\n",
            "18.116988    1\n",
            "10.324956    1\n",
            "3.074986     1\n",
            "18.434533    1\n",
            "17.819907    1\n",
            "Name: count, Length: 2392, dtype: int64\n",
            "Absences\n",
            "25    93\n",
            "13    93\n",
            "12    92\n",
            "8     91\n",
            "19    90\n",
            "20    90\n",
            "6     88\n",
            "15    87\n",
            "23    86\n",
            "7     86\n",
            "1     85\n",
            "27    84\n",
            "14    84\n",
            "5     83\n",
            "21    83\n",
            "17    81\n",
            "24    81\n",
            "26    80\n",
            "3     79\n",
            "16    79\n",
            "18    79\n",
            "11    71\n",
            "22    71\n",
            "2     69\n",
            "29    69\n",
            "4     69\n",
            "0     67\n",
            "9     67\n",
            "10    61\n",
            "28    54\n",
            "Name: count, dtype: int64\n",
            "Tutoring\n",
            "0    1671\n",
            "1     721\n",
            "Name: count, dtype: int64\n",
            "ParentalSupport\n",
            "2    740\n",
            "3    697\n",
            "1    489\n",
            "4    254\n",
            "0    212\n",
            "Name: count, dtype: int64\n",
            "Extracurricular\n",
            "0    1475\n",
            "1     917\n",
            "Name: count, dtype: int64\n",
            "Sports\n",
            "0    1666\n",
            "1     726\n",
            "Name: count, dtype: int64\n",
            "Music\n",
            "0    1921\n",
            "1     471\n",
            "Name: count, dtype: int64\n",
            "Volunteering\n",
            "0    2016\n",
            "1     376\n",
            "Name: count, dtype: int64\n",
            "GPA\n",
            "0.000000    16\n",
            "4.000000     7\n",
            "2.929196     1\n",
            "2.527607     1\n",
            "2.167615     1\n",
            "            ..\n",
            "1.687900     1\n",
            "2.952146     1\n",
            "0.963375     1\n",
            "3.334972     1\n",
            "2.140014     1\n",
            "Name: count, Length: 2371, dtype: int64\n",
            "GradeClass\n",
            "4.0    1211\n",
            "3.0     414\n",
            "2.0     391\n",
            "1.0     269\n",
            "0.0     107\n",
            "Name: count, dtype: int64\n"
          ]
        }
      ]
    },
    {
      "cell_type": "code",
      "execution_count": null,
      "id": "6456d7b9-96c0-460f-ab8e-fddfa9115c31",
      "metadata": {
        "id": "6456d7b9-96c0-460f-ab8e-fddfa9115c31"
      },
      "outputs": [],
      "source": [
        "Studytime_mean=data['StudyTimeWeekly'].mean()"
      ]
    },
    {
      "cell_type": "code",
      "execution_count": null,
      "id": "43cb4155-b459-4277-a9d0-c1132c00a83a",
      "metadata": {
        "id": "43cb4155-b459-4277-a9d0-c1132c00a83a",
        "outputId": "51e74a3a-c73f-4391-e186-7ae409a321c5",
        "colab": {
          "base_uri": "https://localhost:8080/",
          "height": 444
        }
      },
      "outputs": [
        {
          "output_type": "execute_result",
          "data": {
            "text/plain": [
              "      ParentalSupport  StudyTimeWeekly\n",
              "2                   2         4.210570\n",
              "4                   3         4.672495\n",
              "5                   1         8.191219\n",
              "8                   2         4.562008\n",
              "11                  2         7.598486\n",
              "...               ...              ...\n",
              "2374                3         2.313504\n",
              "2380                1         2.138397\n",
              "2385                3         1.445434\n",
              "2388                4         7.583217\n",
              "2389                2         6.805500\n",
              "\n",
              "[1205 rows x 2 columns]"
            ],
            "text/html": [
              "\n",
              "  <div id=\"df-3055ab02-7733-4c16-b9de-75d08864d3d8\" class=\"colab-df-container\">\n",
              "    <div>\n",
              "<style scoped>\n",
              "    .dataframe tbody tr th:only-of-type {\n",
              "        vertical-align: middle;\n",
              "    }\n",
              "\n",
              "    .dataframe tbody tr th {\n",
              "        vertical-align: top;\n",
              "    }\n",
              "\n",
              "    .dataframe thead th {\n",
              "        text-align: right;\n",
              "    }\n",
              "</style>\n",
              "<table border=\"1\" class=\"dataframe\">\n",
              "  <thead>\n",
              "    <tr style=\"text-align: right;\">\n",
              "      <th></th>\n",
              "      <th>ParentalSupport</th>\n",
              "      <th>StudyTimeWeekly</th>\n",
              "    </tr>\n",
              "  </thead>\n",
              "  <tbody>\n",
              "    <tr>\n",
              "      <th>2</th>\n",
              "      <td>2</td>\n",
              "      <td>4.210570</td>\n",
              "    </tr>\n",
              "    <tr>\n",
              "      <th>4</th>\n",
              "      <td>3</td>\n",
              "      <td>4.672495</td>\n",
              "    </tr>\n",
              "    <tr>\n",
              "      <th>5</th>\n",
              "      <td>1</td>\n",
              "      <td>8.191219</td>\n",
              "    </tr>\n",
              "    <tr>\n",
              "      <th>8</th>\n",
              "      <td>2</td>\n",
              "      <td>4.562008</td>\n",
              "    </tr>\n",
              "    <tr>\n",
              "      <th>11</th>\n",
              "      <td>2</td>\n",
              "      <td>7.598486</td>\n",
              "    </tr>\n",
              "    <tr>\n",
              "      <th>...</th>\n",
              "      <td>...</td>\n",
              "      <td>...</td>\n",
              "    </tr>\n",
              "    <tr>\n",
              "      <th>2374</th>\n",
              "      <td>3</td>\n",
              "      <td>2.313504</td>\n",
              "    </tr>\n",
              "    <tr>\n",
              "      <th>2380</th>\n",
              "      <td>1</td>\n",
              "      <td>2.138397</td>\n",
              "    </tr>\n",
              "    <tr>\n",
              "      <th>2385</th>\n",
              "      <td>3</td>\n",
              "      <td>1.445434</td>\n",
              "    </tr>\n",
              "    <tr>\n",
              "      <th>2388</th>\n",
              "      <td>4</td>\n",
              "      <td>7.583217</td>\n",
              "    </tr>\n",
              "    <tr>\n",
              "      <th>2389</th>\n",
              "      <td>2</td>\n",
              "      <td>6.805500</td>\n",
              "    </tr>\n",
              "  </tbody>\n",
              "</table>\n",
              "<p>1205 rows × 2 columns</p>\n",
              "</div>\n",
              "    <div class=\"colab-df-buttons\">\n",
              "\n",
              "  <div class=\"colab-df-container\">\n",
              "    <button class=\"colab-df-convert\" onclick=\"convertToInteractive('df-3055ab02-7733-4c16-b9de-75d08864d3d8')\"\n",
              "            title=\"Convert this dataframe to an interactive table.\"\n",
              "            style=\"display:none;\">\n",
              "\n",
              "  <svg xmlns=\"http://www.w3.org/2000/svg\" height=\"24px\" viewBox=\"0 -960 960 960\">\n",
              "    <path d=\"M120-120v-720h720v720H120Zm60-500h600v-160H180v160Zm220 220h160v-160H400v160Zm0 220h160v-160H400v160ZM180-400h160v-160H180v160Zm440 0h160v-160H620v160ZM180-180h160v-160H180v160Zm440 0h160v-160H620v160Z\"/>\n",
              "  </svg>\n",
              "    </button>\n",
              "\n",
              "  <style>\n",
              "    .colab-df-container {\n",
              "      display:flex;\n",
              "      gap: 12px;\n",
              "    }\n",
              "\n",
              "    .colab-df-convert {\n",
              "      background-color: #E8F0FE;\n",
              "      border: none;\n",
              "      border-radius: 50%;\n",
              "      cursor: pointer;\n",
              "      display: none;\n",
              "      fill: #1967D2;\n",
              "      height: 32px;\n",
              "      padding: 0 0 0 0;\n",
              "      width: 32px;\n",
              "    }\n",
              "\n",
              "    .colab-df-convert:hover {\n",
              "      background-color: #E2EBFA;\n",
              "      box-shadow: 0px 1px 2px rgba(60, 64, 67, 0.3), 0px 1px 3px 1px rgba(60, 64, 67, 0.15);\n",
              "      fill: #174EA6;\n",
              "    }\n",
              "\n",
              "    .colab-df-buttons div {\n",
              "      margin-bottom: 4px;\n",
              "    }\n",
              "\n",
              "    [theme=dark] .colab-df-convert {\n",
              "      background-color: #3B4455;\n",
              "      fill: #D2E3FC;\n",
              "    }\n",
              "\n",
              "    [theme=dark] .colab-df-convert:hover {\n",
              "      background-color: #434B5C;\n",
              "      box-shadow: 0px 1px 3px 1px rgba(0, 0, 0, 0.15);\n",
              "      filter: drop-shadow(0px 1px 2px rgba(0, 0, 0, 0.3));\n",
              "      fill: #FFFFFF;\n",
              "    }\n",
              "  </style>\n",
              "\n",
              "    <script>\n",
              "      const buttonEl =\n",
              "        document.querySelector('#df-3055ab02-7733-4c16-b9de-75d08864d3d8 button.colab-df-convert');\n",
              "      buttonEl.style.display =\n",
              "        google.colab.kernel.accessAllowed ? 'block' : 'none';\n",
              "\n",
              "      async function convertToInteractive(key) {\n",
              "        const element = document.querySelector('#df-3055ab02-7733-4c16-b9de-75d08864d3d8');\n",
              "        const dataTable =\n",
              "          await google.colab.kernel.invokeFunction('convertToInteractive',\n",
              "                                                    [key], {});\n",
              "        if (!dataTable) return;\n",
              "\n",
              "        const docLinkHtml = 'Like what you see? Visit the ' +\n",
              "          '<a target=\"_blank\" href=https://colab.research.google.com/notebooks/data_table.ipynb>data table notebook</a>'\n",
              "          + ' to learn more about interactive tables.';\n",
              "        element.innerHTML = '';\n",
              "        dataTable['output_type'] = 'display_data';\n",
              "        await google.colab.output.renderOutput(dataTable, element);\n",
              "        const docLink = document.createElement('div');\n",
              "        docLink.innerHTML = docLinkHtml;\n",
              "        element.appendChild(docLink);\n",
              "      }\n",
              "    </script>\n",
              "  </div>\n",
              "\n",
              "\n",
              "<div id=\"df-a42ada7c-b9ae-4aab-94ff-b66bf77f6a88\">\n",
              "  <button class=\"colab-df-quickchart\" onclick=\"quickchart('df-a42ada7c-b9ae-4aab-94ff-b66bf77f6a88')\"\n",
              "            title=\"Suggest charts\"\n",
              "            style=\"display:none;\">\n",
              "\n",
              "<svg xmlns=\"http://www.w3.org/2000/svg\" height=\"24px\"viewBox=\"0 0 24 24\"\n",
              "     width=\"24px\">\n",
              "    <g>\n",
              "        <path d=\"M19 3H5c-1.1 0-2 .9-2 2v14c0 1.1.9 2 2 2h14c1.1 0 2-.9 2-2V5c0-1.1-.9-2-2-2zM9 17H7v-7h2v7zm4 0h-2V7h2v10zm4 0h-2v-4h2v4z\"/>\n",
              "    </g>\n",
              "</svg>\n",
              "  </button>\n",
              "\n",
              "<style>\n",
              "  .colab-df-quickchart {\n",
              "      --bg-color: #E8F0FE;\n",
              "      --fill-color: #1967D2;\n",
              "      --hover-bg-color: #E2EBFA;\n",
              "      --hover-fill-color: #174EA6;\n",
              "      --disabled-fill-color: #AAA;\n",
              "      --disabled-bg-color: #DDD;\n",
              "  }\n",
              "\n",
              "  [theme=dark] .colab-df-quickchart {\n",
              "      --bg-color: #3B4455;\n",
              "      --fill-color: #D2E3FC;\n",
              "      --hover-bg-color: #434B5C;\n",
              "      --hover-fill-color: #FFFFFF;\n",
              "      --disabled-bg-color: #3B4455;\n",
              "      --disabled-fill-color: #666;\n",
              "  }\n",
              "\n",
              "  .colab-df-quickchart {\n",
              "    background-color: var(--bg-color);\n",
              "    border: none;\n",
              "    border-radius: 50%;\n",
              "    cursor: pointer;\n",
              "    display: none;\n",
              "    fill: var(--fill-color);\n",
              "    height: 32px;\n",
              "    padding: 0;\n",
              "    width: 32px;\n",
              "  }\n",
              "\n",
              "  .colab-df-quickchart:hover {\n",
              "    background-color: var(--hover-bg-color);\n",
              "    box-shadow: 0 1px 2px rgba(60, 64, 67, 0.3), 0 1px 3px 1px rgba(60, 64, 67, 0.15);\n",
              "    fill: var(--button-hover-fill-color);\n",
              "  }\n",
              "\n",
              "  .colab-df-quickchart-complete:disabled,\n",
              "  .colab-df-quickchart-complete:disabled:hover {\n",
              "    background-color: var(--disabled-bg-color);\n",
              "    fill: var(--disabled-fill-color);\n",
              "    box-shadow: none;\n",
              "  }\n",
              "\n",
              "  .colab-df-spinner {\n",
              "    border: 2px solid var(--fill-color);\n",
              "    border-color: transparent;\n",
              "    border-bottom-color: var(--fill-color);\n",
              "    animation:\n",
              "      spin 1s steps(1) infinite;\n",
              "  }\n",
              "\n",
              "  @keyframes spin {\n",
              "    0% {\n",
              "      border-color: transparent;\n",
              "      border-bottom-color: var(--fill-color);\n",
              "      border-left-color: var(--fill-color);\n",
              "    }\n",
              "    20% {\n",
              "      border-color: transparent;\n",
              "      border-left-color: var(--fill-color);\n",
              "      border-top-color: var(--fill-color);\n",
              "    }\n",
              "    30% {\n",
              "      border-color: transparent;\n",
              "      border-left-color: var(--fill-color);\n",
              "      border-top-color: var(--fill-color);\n",
              "      border-right-color: var(--fill-color);\n",
              "    }\n",
              "    40% {\n",
              "      border-color: transparent;\n",
              "      border-right-color: var(--fill-color);\n",
              "      border-top-color: var(--fill-color);\n",
              "    }\n",
              "    60% {\n",
              "      border-color: transparent;\n",
              "      border-right-color: var(--fill-color);\n",
              "    }\n",
              "    80% {\n",
              "      border-color: transparent;\n",
              "      border-right-color: var(--fill-color);\n",
              "      border-bottom-color: var(--fill-color);\n",
              "    }\n",
              "    90% {\n",
              "      border-color: transparent;\n",
              "      border-bottom-color: var(--fill-color);\n",
              "    }\n",
              "  }\n",
              "</style>\n",
              "\n",
              "  <script>\n",
              "    async function quickchart(key) {\n",
              "      const quickchartButtonEl =\n",
              "        document.querySelector('#' + key + ' button');\n",
              "      quickchartButtonEl.disabled = true;  // To prevent multiple clicks.\n",
              "      quickchartButtonEl.classList.add('colab-df-spinner');\n",
              "      try {\n",
              "        const charts = await google.colab.kernel.invokeFunction(\n",
              "            'suggestCharts', [key], {});\n",
              "      } catch (error) {\n",
              "        console.error('Error during call to suggestCharts:', error);\n",
              "      }\n",
              "      quickchartButtonEl.classList.remove('colab-df-spinner');\n",
              "      quickchartButtonEl.classList.add('colab-df-quickchart-complete');\n",
              "    }\n",
              "    (() => {\n",
              "      let quickchartButtonEl =\n",
              "        document.querySelector('#df-a42ada7c-b9ae-4aab-94ff-b66bf77f6a88 button');\n",
              "      quickchartButtonEl.style.display =\n",
              "        google.colab.kernel.accessAllowed ? 'block' : 'none';\n",
              "    })();\n",
              "  </script>\n",
              "</div>\n",
              "\n",
              "    </div>\n",
              "  </div>\n"
            ],
            "application/vnd.google.colaboratory.intrinsic+json": {
              "type": "dataframe",
              "summary": "{\n  \"name\": \"data_lower_than_mean[[\\\"ParentalSupport\\\", \\\"StudyTimeWeekly\\\"]]\",\n  \"rows\": 1205,\n  \"fields\": [\n    {\n      \"column\": \"ParentalSupport\",\n      \"properties\": {\n        \"dtype\": \"number\",\n        \"std\": 1,\n        \"min\": 0,\n        \"max\": 4,\n        \"num_unique_values\": 5,\n        \"samples\": [\n          3,\n          4,\n          1\n        ],\n        \"semantic_type\": \"\",\n        \"description\": \"\"\n      }\n    },\n    {\n      \"column\": \"StudyTimeWeekly\",\n      \"properties\": {\n        \"dtype\": \"number\",\n        \"std\": 2.834726744408416,\n        \"min\": 0.001056538645936,\n        \"max\": 9.766698260086692,\n        \"num_unique_values\": 1205,\n        \"samples\": [\n          8.619661256945168,\n          2.2906573665269647,\n          8.577748627004212\n        ],\n        \"semantic_type\": \"\",\n        \"description\": \"\"\n      }\n    }\n  ]\n}"
            }
          },
          "metadata": {},
          "execution_count": 13
        }
      ],
      "source": [
        "data_lower_than_mean = data[data['StudyTimeWeekly'] < Studytime_mean]\n",
        "data_lower_than_mean[[\"ParentalSupport\", \"StudyTimeWeekly\"]]"
      ]
    },
    {
      "cell_type": "code",
      "execution_count": null,
      "id": "978f450c-aa8f-4017-872f-05e75b7988fd",
      "metadata": {
        "id": "978f450c-aa8f-4017-872f-05e75b7988fd",
        "outputId": "aee23eff-2fe9-4df9-d3e1-d56e901d84d9",
        "colab": {
          "base_uri": "https://localhost:8080/",
          "height": 444
        }
      },
      "outputs": [
        {
          "output_type": "execute_result",
          "data": {
            "text/plain": [
              "      ParentalSupport  StudyTimeWeekly\n",
              "0                   2        19.833723\n",
              "1                   1        15.408756\n",
              "3                   3        10.028829\n",
              "6                   3        15.601680\n",
              "7                   1        15.424496\n",
              "...               ...              ...\n",
              "2384                3        16.655581\n",
              "2386                2        13.814021\n",
              "2387                4        10.680555\n",
              "2390                2        12.416653\n",
              "2391                2        17.819907\n",
              "\n",
              "[1187 rows x 2 columns]"
            ],
            "text/html": [
              "\n",
              "  <div id=\"df-04f90c99-1d83-4c2d-8e81-40674ed96244\" class=\"colab-df-container\">\n",
              "    <div>\n",
              "<style scoped>\n",
              "    .dataframe tbody tr th:only-of-type {\n",
              "        vertical-align: middle;\n",
              "    }\n",
              "\n",
              "    .dataframe tbody tr th {\n",
              "        vertical-align: top;\n",
              "    }\n",
              "\n",
              "    .dataframe thead th {\n",
              "        text-align: right;\n",
              "    }\n",
              "</style>\n",
              "<table border=\"1\" class=\"dataframe\">\n",
              "  <thead>\n",
              "    <tr style=\"text-align: right;\">\n",
              "      <th></th>\n",
              "      <th>ParentalSupport</th>\n",
              "      <th>StudyTimeWeekly</th>\n",
              "    </tr>\n",
              "  </thead>\n",
              "  <tbody>\n",
              "    <tr>\n",
              "      <th>0</th>\n",
              "      <td>2</td>\n",
              "      <td>19.833723</td>\n",
              "    </tr>\n",
              "    <tr>\n",
              "      <th>1</th>\n",
              "      <td>1</td>\n",
              "      <td>15.408756</td>\n",
              "    </tr>\n",
              "    <tr>\n",
              "      <th>3</th>\n",
              "      <td>3</td>\n",
              "      <td>10.028829</td>\n",
              "    </tr>\n",
              "    <tr>\n",
              "      <th>6</th>\n",
              "      <td>3</td>\n",
              "      <td>15.601680</td>\n",
              "    </tr>\n",
              "    <tr>\n",
              "      <th>7</th>\n",
              "      <td>1</td>\n",
              "      <td>15.424496</td>\n",
              "    </tr>\n",
              "    <tr>\n",
              "      <th>...</th>\n",
              "      <td>...</td>\n",
              "      <td>...</td>\n",
              "    </tr>\n",
              "    <tr>\n",
              "      <th>2384</th>\n",
              "      <td>3</td>\n",
              "      <td>16.655581</td>\n",
              "    </tr>\n",
              "    <tr>\n",
              "      <th>2386</th>\n",
              "      <td>2</td>\n",
              "      <td>13.814021</td>\n",
              "    </tr>\n",
              "    <tr>\n",
              "      <th>2387</th>\n",
              "      <td>4</td>\n",
              "      <td>10.680555</td>\n",
              "    </tr>\n",
              "    <tr>\n",
              "      <th>2390</th>\n",
              "      <td>2</td>\n",
              "      <td>12.416653</td>\n",
              "    </tr>\n",
              "    <tr>\n",
              "      <th>2391</th>\n",
              "      <td>2</td>\n",
              "      <td>17.819907</td>\n",
              "    </tr>\n",
              "  </tbody>\n",
              "</table>\n",
              "<p>1187 rows × 2 columns</p>\n",
              "</div>\n",
              "    <div class=\"colab-df-buttons\">\n",
              "\n",
              "  <div class=\"colab-df-container\">\n",
              "    <button class=\"colab-df-convert\" onclick=\"convertToInteractive('df-04f90c99-1d83-4c2d-8e81-40674ed96244')\"\n",
              "            title=\"Convert this dataframe to an interactive table.\"\n",
              "            style=\"display:none;\">\n",
              "\n",
              "  <svg xmlns=\"http://www.w3.org/2000/svg\" height=\"24px\" viewBox=\"0 -960 960 960\">\n",
              "    <path d=\"M120-120v-720h720v720H120Zm60-500h600v-160H180v160Zm220 220h160v-160H400v160Zm0 220h160v-160H400v160ZM180-400h160v-160H180v160Zm440 0h160v-160H620v160ZM180-180h160v-160H180v160Zm440 0h160v-160H620v160Z\"/>\n",
              "  </svg>\n",
              "    </button>\n",
              "\n",
              "  <style>\n",
              "    .colab-df-container {\n",
              "      display:flex;\n",
              "      gap: 12px;\n",
              "    }\n",
              "\n",
              "    .colab-df-convert {\n",
              "      background-color: #E8F0FE;\n",
              "      border: none;\n",
              "      border-radius: 50%;\n",
              "      cursor: pointer;\n",
              "      display: none;\n",
              "      fill: #1967D2;\n",
              "      height: 32px;\n",
              "      padding: 0 0 0 0;\n",
              "      width: 32px;\n",
              "    }\n",
              "\n",
              "    .colab-df-convert:hover {\n",
              "      background-color: #E2EBFA;\n",
              "      box-shadow: 0px 1px 2px rgba(60, 64, 67, 0.3), 0px 1px 3px 1px rgba(60, 64, 67, 0.15);\n",
              "      fill: #174EA6;\n",
              "    }\n",
              "\n",
              "    .colab-df-buttons div {\n",
              "      margin-bottom: 4px;\n",
              "    }\n",
              "\n",
              "    [theme=dark] .colab-df-convert {\n",
              "      background-color: #3B4455;\n",
              "      fill: #D2E3FC;\n",
              "    }\n",
              "\n",
              "    [theme=dark] .colab-df-convert:hover {\n",
              "      background-color: #434B5C;\n",
              "      box-shadow: 0px 1px 3px 1px rgba(0, 0, 0, 0.15);\n",
              "      filter: drop-shadow(0px 1px 2px rgba(0, 0, 0, 0.3));\n",
              "      fill: #FFFFFF;\n",
              "    }\n",
              "  </style>\n",
              "\n",
              "    <script>\n",
              "      const buttonEl =\n",
              "        document.querySelector('#df-04f90c99-1d83-4c2d-8e81-40674ed96244 button.colab-df-convert');\n",
              "      buttonEl.style.display =\n",
              "        google.colab.kernel.accessAllowed ? 'block' : 'none';\n",
              "\n",
              "      async function convertToInteractive(key) {\n",
              "        const element = document.querySelector('#df-04f90c99-1d83-4c2d-8e81-40674ed96244');\n",
              "        const dataTable =\n",
              "          await google.colab.kernel.invokeFunction('convertToInteractive',\n",
              "                                                    [key], {});\n",
              "        if (!dataTable) return;\n",
              "\n",
              "        const docLinkHtml = 'Like what you see? Visit the ' +\n",
              "          '<a target=\"_blank\" href=https://colab.research.google.com/notebooks/data_table.ipynb>data table notebook</a>'\n",
              "          + ' to learn more about interactive tables.';\n",
              "        element.innerHTML = '';\n",
              "        dataTable['output_type'] = 'display_data';\n",
              "        await google.colab.output.renderOutput(dataTable, element);\n",
              "        const docLink = document.createElement('div');\n",
              "        docLink.innerHTML = docLinkHtml;\n",
              "        element.appendChild(docLink);\n",
              "      }\n",
              "    </script>\n",
              "  </div>\n",
              "\n",
              "\n",
              "<div id=\"df-9b884c24-6cd8-4d9c-8550-6b1389d10052\">\n",
              "  <button class=\"colab-df-quickchart\" onclick=\"quickchart('df-9b884c24-6cd8-4d9c-8550-6b1389d10052')\"\n",
              "            title=\"Suggest charts\"\n",
              "            style=\"display:none;\">\n",
              "\n",
              "<svg xmlns=\"http://www.w3.org/2000/svg\" height=\"24px\"viewBox=\"0 0 24 24\"\n",
              "     width=\"24px\">\n",
              "    <g>\n",
              "        <path d=\"M19 3H5c-1.1 0-2 .9-2 2v14c0 1.1.9 2 2 2h14c1.1 0 2-.9 2-2V5c0-1.1-.9-2-2-2zM9 17H7v-7h2v7zm4 0h-2V7h2v10zm4 0h-2v-4h2v4z\"/>\n",
              "    </g>\n",
              "</svg>\n",
              "  </button>\n",
              "\n",
              "<style>\n",
              "  .colab-df-quickchart {\n",
              "      --bg-color: #E8F0FE;\n",
              "      --fill-color: #1967D2;\n",
              "      --hover-bg-color: #E2EBFA;\n",
              "      --hover-fill-color: #174EA6;\n",
              "      --disabled-fill-color: #AAA;\n",
              "      --disabled-bg-color: #DDD;\n",
              "  }\n",
              "\n",
              "  [theme=dark] .colab-df-quickchart {\n",
              "      --bg-color: #3B4455;\n",
              "      --fill-color: #D2E3FC;\n",
              "      --hover-bg-color: #434B5C;\n",
              "      --hover-fill-color: #FFFFFF;\n",
              "      --disabled-bg-color: #3B4455;\n",
              "      --disabled-fill-color: #666;\n",
              "  }\n",
              "\n",
              "  .colab-df-quickchart {\n",
              "    background-color: var(--bg-color);\n",
              "    border: none;\n",
              "    border-radius: 50%;\n",
              "    cursor: pointer;\n",
              "    display: none;\n",
              "    fill: var(--fill-color);\n",
              "    height: 32px;\n",
              "    padding: 0;\n",
              "    width: 32px;\n",
              "  }\n",
              "\n",
              "  .colab-df-quickchart:hover {\n",
              "    background-color: var(--hover-bg-color);\n",
              "    box-shadow: 0 1px 2px rgba(60, 64, 67, 0.3), 0 1px 3px 1px rgba(60, 64, 67, 0.15);\n",
              "    fill: var(--button-hover-fill-color);\n",
              "  }\n",
              "\n",
              "  .colab-df-quickchart-complete:disabled,\n",
              "  .colab-df-quickchart-complete:disabled:hover {\n",
              "    background-color: var(--disabled-bg-color);\n",
              "    fill: var(--disabled-fill-color);\n",
              "    box-shadow: none;\n",
              "  }\n",
              "\n",
              "  .colab-df-spinner {\n",
              "    border: 2px solid var(--fill-color);\n",
              "    border-color: transparent;\n",
              "    border-bottom-color: var(--fill-color);\n",
              "    animation:\n",
              "      spin 1s steps(1) infinite;\n",
              "  }\n",
              "\n",
              "  @keyframes spin {\n",
              "    0% {\n",
              "      border-color: transparent;\n",
              "      border-bottom-color: var(--fill-color);\n",
              "      border-left-color: var(--fill-color);\n",
              "    }\n",
              "    20% {\n",
              "      border-color: transparent;\n",
              "      border-left-color: var(--fill-color);\n",
              "      border-top-color: var(--fill-color);\n",
              "    }\n",
              "    30% {\n",
              "      border-color: transparent;\n",
              "      border-left-color: var(--fill-color);\n",
              "      border-top-color: var(--fill-color);\n",
              "      border-right-color: var(--fill-color);\n",
              "    }\n",
              "    40% {\n",
              "      border-color: transparent;\n",
              "      border-right-color: var(--fill-color);\n",
              "      border-top-color: var(--fill-color);\n",
              "    }\n",
              "    60% {\n",
              "      border-color: transparent;\n",
              "      border-right-color: var(--fill-color);\n",
              "    }\n",
              "    80% {\n",
              "      border-color: transparent;\n",
              "      border-right-color: var(--fill-color);\n",
              "      border-bottom-color: var(--fill-color);\n",
              "    }\n",
              "    90% {\n",
              "      border-color: transparent;\n",
              "      border-bottom-color: var(--fill-color);\n",
              "    }\n",
              "  }\n",
              "</style>\n",
              "\n",
              "  <script>\n",
              "    async function quickchart(key) {\n",
              "      const quickchartButtonEl =\n",
              "        document.querySelector('#' + key + ' button');\n",
              "      quickchartButtonEl.disabled = true;  // To prevent multiple clicks.\n",
              "      quickchartButtonEl.classList.add('colab-df-spinner');\n",
              "      try {\n",
              "        const charts = await google.colab.kernel.invokeFunction(\n",
              "            'suggestCharts', [key], {});\n",
              "      } catch (error) {\n",
              "        console.error('Error during call to suggestCharts:', error);\n",
              "      }\n",
              "      quickchartButtonEl.classList.remove('colab-df-spinner');\n",
              "      quickchartButtonEl.classList.add('colab-df-quickchart-complete');\n",
              "    }\n",
              "    (() => {\n",
              "      let quickchartButtonEl =\n",
              "        document.querySelector('#df-9b884c24-6cd8-4d9c-8550-6b1389d10052 button');\n",
              "      quickchartButtonEl.style.display =\n",
              "        google.colab.kernel.accessAllowed ? 'block' : 'none';\n",
              "    })();\n",
              "  </script>\n",
              "</div>\n",
              "\n",
              "    </div>\n",
              "  </div>\n"
            ],
            "application/vnd.google.colaboratory.intrinsic+json": {
              "type": "dataframe",
              "summary": "{\n  \"name\": \"data_higher_than_mean[[\\\"ParentalSupport\\\", \\\"StudyTimeWeekly\\\"]]\",\n  \"rows\": 1187,\n  \"fields\": [\n    {\n      \"column\": \"ParentalSupport\",\n      \"properties\": {\n        \"dtype\": \"number\",\n        \"std\": 1,\n        \"min\": 0,\n        \"max\": 4,\n        \"num_unique_values\": 5,\n        \"samples\": [\n          1,\n          0,\n          3\n        ],\n        \"semantic_type\": \"\",\n        \"description\": \"\"\n      }\n    },\n    {\n      \"column\": \"StudyTimeWeekly\",\n      \"properties\": {\n        \"dtype\": \"number\",\n        \"std\": 2.996045679220303,\n        \"min\": 9.772098517559694,\n        \"max\": 19.97809399526153,\n        \"num_unique_values\": 1187,\n        \"samples\": [\n          11.33612210020932,\n          14.19609426544744,\n          11.561500983696632\n        ],\n        \"semantic_type\": \"\",\n        \"description\": \"\"\n      }\n    }\n  ]\n}"
            }
          },
          "metadata": {},
          "execution_count": 14
        }
      ],
      "source": [
        "data_higher_than_mean = data[data['StudyTimeWeekly'] > Studytime_mean]\n",
        "data_higher_than_mean[[\"ParentalSupport\", \"StudyTimeWeekly\"]]"
      ]
    },
    {
      "cell_type": "code",
      "execution_count": null,
      "id": "4b0d598a-1b6a-42cc-bbfe-3cac15dc2802",
      "metadata": {
        "id": "4b0d598a-1b6a-42cc-bbfe-3cac15dc2802",
        "outputId": "a9e12c36-3a71-4fa9-ac7a-fe5c19b93155",
        "colab": {
          "base_uri": "https://localhost:8080/",
          "height": 292
        }
      },
      "outputs": [
        {
          "output_type": "execute_result",
          "data": {
            "text/plain": [
              "ParentalSupport\n",
              "2    740\n",
              "3    697\n",
              "1    489\n",
              "4    254\n",
              "0    212\n",
              "Name: count, dtype: int64"
            ],
            "text/html": [
              "<div>\n",
              "<style scoped>\n",
              "    .dataframe tbody tr th:only-of-type {\n",
              "        vertical-align: middle;\n",
              "    }\n",
              "\n",
              "    .dataframe tbody tr th {\n",
              "        vertical-align: top;\n",
              "    }\n",
              "\n",
              "    .dataframe thead th {\n",
              "        text-align: right;\n",
              "    }\n",
              "</style>\n",
              "<table border=\"1\" class=\"dataframe\">\n",
              "  <thead>\n",
              "    <tr style=\"text-align: right;\">\n",
              "      <th></th>\n",
              "      <th>count</th>\n",
              "    </tr>\n",
              "    <tr>\n",
              "      <th>ParentalSupport</th>\n",
              "      <th></th>\n",
              "    </tr>\n",
              "  </thead>\n",
              "  <tbody>\n",
              "    <tr>\n",
              "      <th>2</th>\n",
              "      <td>740</td>\n",
              "    </tr>\n",
              "    <tr>\n",
              "      <th>3</th>\n",
              "      <td>697</td>\n",
              "    </tr>\n",
              "    <tr>\n",
              "      <th>1</th>\n",
              "      <td>489</td>\n",
              "    </tr>\n",
              "    <tr>\n",
              "      <th>4</th>\n",
              "      <td>254</td>\n",
              "    </tr>\n",
              "    <tr>\n",
              "      <th>0</th>\n",
              "      <td>212</td>\n",
              "    </tr>\n",
              "  </tbody>\n",
              "</table>\n",
              "</div><br><label><b>dtype:</b> int64</label>"
            ]
          },
          "metadata": {},
          "execution_count": 15
        }
      ],
      "source": [
        "data['ParentalSupport'].value_counts()"
      ]
    },
    {
      "cell_type": "code",
      "execution_count": null,
      "id": "3354e4ae-43eb-4064-8949-dfdb92f3f072",
      "metadata": {
        "id": "3354e4ae-43eb-4064-8949-dfdb92f3f072",
        "outputId": "21b2ef52-39d4-4701-a2fe-098a233e294a",
        "colab": {
          "base_uri": "https://localhost:8080/",
          "height": 469
        }
      },
      "outputs": [
        {
          "output_type": "display_data",
          "data": {
            "text/plain": [
              "<Figure size 640x480 with 1 Axes>"
            ],
            "image/png": "[encoded data removed]"
          },
          "metadata": {}
        }
      ],
      "source": [
        "studying_hour_very_high_support = data['StudyTimeWeekly'][data['ParentalSupport'] == 4].mean()\n",
        "studying_hour_high_support = data['StudyTimeWeekly'][data['ParentalSupport'] ==  3].mean()\n",
        "studying_hour_medium_support = data['StudyTimeWeekly'][data['ParentalSupport'] ==  2].mean()\n",
        "studying_hour_low_support = data['StudyTimeWeekly'][data['ParentalSupport'] == 1].mean()\n",
        "studying_hour_very_low_support = data['StudyTimeWeekly'][data['ParentalSupport'] ==  0].mean()\n",
        "\n",
        "x = ['Very High','High', 'Medium', 'Low','Very Low']\n",
        "y = [studying_hour_very_high_support,studying_hour_high_support, studying_hour_medium_support, studying_hour_low_support,studying_hour_very_low_support]\n",
        "\n",
        "plt.bar(x, y, color = ['#1f77b4', '#3498db', '#5dade2', '#85c1e9', '#d6eaf8'], width=0.5)\n",
        "plt.rcParams[\"figure.figsize\"] = (8, 6)\n",
        "plt.xlabel('Levels of Parental Support')\n",
        "plt.ylabel('Study Hours Per Week')\n",
        "plt.show()"
      ]
    },
    {
      "cell_type": "markdown",
      "id": "716a08cc-57d2-4fc3-bb95-b75b2353756b",
      "metadata": {
        "id": "716a08cc-57d2-4fc3-bb95-b75b2353756b"
      },
      "source": [
        "### We can notice that study hours per week of students does not depend on level of parental support"
      ]
    },
    {
      "cell_type": "code",
      "execution_count": null,
      "id": "708f0cd6-c83b-4395-a68a-763e98fe60af",
      "metadata": {
        "id": "708f0cd6-c83b-4395-a68a-763e98fe60af",
        "outputId": "779a105e-2d99-4b40-f990-1c5717a7950e",
        "colab": {
          "base_uri": "https://localhost:8080/",
          "height": 562
        }
      },
      "outputs": [
        {
          "output_type": "display_data",
          "data": {
            "text/plain": [
              "<Figure size 800x600 with 1 Axes>"
            ],
            "image/png": "[encoded data removed]"
          },
          "metadata": {}
        }
      ],
      "source": [
        "activities_very_high_support = data[['Extracurricular','Sports', 'Music', 'Volunteering']][data['ParentalSupport'] == 4].mean()\n",
        "activities_high_support = data[['Extracurricular','Sports', 'Music', 'Volunteering']][data['ParentalSupport'] == 3].mean()\n",
        "activities_medium_support = data[['Extracurricular','Sports', 'Music', 'Volunteering']][data['ParentalSupport'] == 2].mean()\n",
        "activities_low_support = data[['Extracurricular','Sports', 'Music', 'Volunteering']][data['ParentalSupport'] == 1].mean()\n",
        "activities_very_low_support = data[['Extracurricular','Sports', 'Music', 'Volunteering']][data['ParentalSupport'] == 0].mean()\n",
        "x = ['Very High','High', 'Medium', 'Low','Very Low']\n",
        "y = [studying_hour_very_high_support,studying_hour_high_support, studying_hour_medium_support, studying_hour_low_support,studying_hour_very_low_support]\n",
        "plt.bar(x, y, color = ['#1f77b4', '#3498db', '#5dade2', '#85c1e9', '#d6eaf8'], width=0.5)\n",
        "plt.rcParams[\"figure.figsize\"] = (8, 6)\n",
        "plt.xlabel('Levels of Parental Support')\n",
        "plt.ylabel('Number of Extracurricular Activities')\n",
        "plt.show()"
      ]
    },
    {
      "cell_type": "markdown",
      "id": "d3c0da90-87b0-4023-a6f1-0b473572c151",
      "metadata": {
        "id": "d3c0da90-87b0-4023-a6f1-0b473572c151"
      },
      "source": [
        "### We can notice that participation in extracurricular activities of students does not depend on level of parental support"
      ]
    },
    {
      "cell_type": "code",
      "execution_count": null,
      "id": "9c457962-be28-40dc-a1d1-d2da95638f0c",
      "metadata": {
        "id": "9c457962-be28-40dc-a1d1-d2da95638f0c"
      },
      "outputs": [],
      "source": [
        "GPA_mean=data[\"GPA\"].mean()"
      ]
    },
    {
      "cell_type": "code",
      "execution_count": null,
      "id": "f8d26e92-71e7-4ac6-9a5e-c5e70a4d460f",
      "metadata": {
        "id": "f8d26e92-71e7-4ac6-9a5e-c5e70a4d460f",
        "outputId": "5d84af8a-c7d8-4b96-c462-07434d24ecaf",
        "colab": {
          "base_uri": "https://localhost:8080/",
          "height": 478
        }
      },
      "outputs": [
        {
          "output_type": "execute_result",
          "data": {
            "text/plain": [
              "2       2\n",
              "4       3\n",
              "7       1\n",
              "11      2\n",
              "12      3\n",
              "       ..\n",
              "2382    2\n",
              "2383    4\n",
              "2385    3\n",
              "2389    2\n",
              "2390    2\n",
              "Name: ParentalSupport, Length: 1206, dtype: int64"
            ],
            "text/html": [
              "<div>\n",
              "<style scoped>\n",
              "    .dataframe tbody tr th:only-of-type {\n",
              "        vertical-align: middle;\n",
              "    }\n",
              "\n",
              "    .dataframe tbody tr th {\n",
              "        vertical-align: top;\n",
              "    }\n",
              "\n",
              "    .dataframe thead th {\n",
              "        text-align: right;\n",
              "    }\n",
              "</style>\n",
              "<table border=\"1\" class=\"dataframe\">\n",
              "  <thead>\n",
              "    <tr style=\"text-align: right;\">\n",
              "      <th></th>\n",
              "      <th>ParentalSupport</th>\n",
              "    </tr>\n",
              "  </thead>\n",
              "  <tbody>\n",
              "    <tr>\n",
              "      <th>2</th>\n",
              "      <td>2</td>\n",
              "    </tr>\n",
              "    <tr>\n",
              "      <th>4</th>\n",
              "      <td>3</td>\n",
              "    </tr>\n",
              "    <tr>\n",
              "      <th>7</th>\n",
              "      <td>1</td>\n",
              "    </tr>\n",
              "    <tr>\n",
              "      <th>11</th>\n",
              "      <td>2</td>\n",
              "    </tr>\n",
              "    <tr>\n",
              "      <th>12</th>\n",
              "      <td>3</td>\n",
              "    </tr>\n",
              "    <tr>\n",
              "      <th>...</th>\n",
              "      <td>...</td>\n",
              "    </tr>\n",
              "    <tr>\n",
              "      <th>2382</th>\n",
              "      <td>2</td>\n",
              "    </tr>\n",
              "    <tr>\n",
              "      <th>2383</th>\n",
              "      <td>4</td>\n",
              "    </tr>\n",
              "    <tr>\n",
              "      <th>2385</th>\n",
              "      <td>3</td>\n",
              "    </tr>\n",
              "    <tr>\n",
              "      <th>2389</th>\n",
              "      <td>2</td>\n",
              "    </tr>\n",
              "    <tr>\n",
              "      <th>2390</th>\n",
              "      <td>2</td>\n",
              "    </tr>\n",
              "  </tbody>\n",
              "</table>\n",
              "<p>1206 rows × 1 columns</p>\n",
              "</div><br><label><b>dtype:</b> int64</label>"
            ]
          },
          "metadata": {},
          "execution_count": 19
        }
      ],
      "source": [
        "data['ParentalSupport'][data['GPA']<GPA_mean]"
      ]
    },
    {
      "cell_type": "code",
      "execution_count": null,
      "id": "7b37b883-0ec9-41ff-8f5e-aed35c6a8400",
      "metadata": {
        "id": "7b37b883-0ec9-41ff-8f5e-aed35c6a8400",
        "outputId": "2b4b385f-6b99-4aca-aa1b-1a3bc38b7a0c",
        "colab": {
          "base_uri": "https://localhost:8080/"
        }
      },
      "outputs": [
        {
          "output_type": "stream",
          "name": "stdout",
          "text": [
            "100 325 376 272 133\n"
          ]
        }
      ],
      "source": [
        "very_high_support_low_grade = len(data[(data['ParentalSupport']==4) & (data['GPA']<GPA_mean)])\n",
        "high_support_low_grade = len(data[(data['ParentalSupport']==3) & (data['GPA']<GPA_mean)])\n",
        "medium_support_low_grade = len(data[(data['ParentalSupport']==2) & (data['GPA']<GPA_mean)])\n",
        "low_support_low_grade = len(data[(data['ParentalSupport']==1) & (data['GPA']<GPA_mean)])\n",
        "very_low_support_low_grade = len(data[(data['ParentalSupport']==0) & (data['GPA']<GPA_mean)])\n",
        "\n",
        "print(very_high_support_low_grade,high_support_low_grade,medium_support_low_grade,low_support_low_grade,very_low_support_low_grade)"
      ]
    },
    {
      "cell_type": "code",
      "execution_count": null,
      "id": "f71de4e7-e138-4e3f-b1b8-7b1dab1d774e",
      "metadata": {
        "id": "f71de4e7-e138-4e3f-b1b8-7b1dab1d774e",
        "outputId": "fcf6b1a3-2d64-4639-c559-4c8e7cd23658",
        "colab": {
          "base_uri": "https://localhost:8080/"
        }
      },
      "outputs": [
        {
          "output_type": "stream",
          "name": "stdout",
          "text": [
            "154 364 372 217 79\n"
          ]
        }
      ],
      "source": [
        "very_high_support_high_grade = len(data[(data['ParentalSupport']==4) & (data['GPA']>GPA_mean)])\n",
        "high_support_high_grade = len(data[(data['ParentalSupport']==3) & (data['GPA']>GPA_mean)])\n",
        "medium_support_high_grade = len(data[(data['ParentalSupport']==2) & (data['GPA']>GPA_mean)])\n",
        "low_support_high_grade = len(data[(data['ParentalSupport']==1) & (data['GPA']>GPA_mean)])\n",
        "very_low_support_high_grade = len(data[(data['ParentalSupport']==0) & (data['GPA']>GPA_mean)])\n",
        "print(very_high_support_high_grade,medium_support_high_grade,high_support_high_grade,low_support_high_grade,very_low_support_high_grade)"
      ]
    },
    {
      "cell_type": "code",
      "execution_count": null,
      "id": "f2eb674f-d150-4271-a6a7-a7e448d3d784",
      "metadata": {
        "id": "f2eb674f-d150-4271-a6a7-a7e448d3d784",
        "outputId": "982ca47f-02f7-4210-8b2c-438554ff53a5",
        "colab": {
          "base_uri": "https://localhost:8080/"
        }
      },
      "outputs": [
        {
          "output_type": "stream",
          "name": "stdout",
          "text": [
            "39.37007874015748 46.6284074605452 50.810810810810814 55.623721881390594 62.735849056603776\n"
          ]
        }
      ],
      "source": [
        "very_high_support_low_grade_percentage=very_high_support_low_grade/(very_high_support_low_grade+very_high_support_high_grade)*100\n",
        "high_support_low_grade_percentage=high_support_low_grade/(high_support_low_grade+high_support_high_grade)*100\n",
        "medium_support_low_grade_percentage=medium_support_low_grade/(medium_support_low_grade+medium_support_high_grade)*100\n",
        "low_support_low_grade_percentage=low_support_low_grade/(low_support_low_grade+low_support_high_grade)*100\n",
        "very_low_support_low_grade_percentage=very_low_support_low_grade/(very_low_support_low_grade+very_low_support_high_grade)*100\n",
        "print(very_high_support_low_grade_percentage,high_support_low_grade_percentage,medium_support_low_grade_percentage,low_support_low_grade_percentage,very_low_support_low_grade_percentage)"
      ]
    },
    {
      "cell_type": "code",
      "execution_count": null,
      "id": "b34c0574-5bb6-4dfa-9095-abb62b48b0ed",
      "metadata": {
        "id": "b34c0574-5bb6-4dfa-9095-abb62b48b0ed",
        "outputId": "8fffecaf-4e0c-43ae-a9cd-f9130c834672",
        "colab": {
          "base_uri": "https://localhost:8080/"
        }
      },
      "outputs": [
        {
          "output_type": "stream",
          "name": "stdout",
          "text": [
            "60.629921259842526 53.3715925394548 49.18918918918919 44.376278118609406 37.264150943396224\n"
          ]
        }
      ],
      "source": [
        "very_low_support_high_grade_percentage=very_low_support_high_grade/(very_low_support_low_grade+very_low_support_high_grade)*100\n",
        "low_support_high_grade_percentage=low_support_high_grade/(low_support_low_grade+low_support_high_grade)*100\n",
        "medium_support_high_grade_percentage=medium_support_high_grade/(medium_support_low_grade+medium_support_high_grade)*100\n",
        "high_support_high_grade_percentage=high_support_high_grade/(high_support_low_grade+high_support_high_grade)*100\n",
        "very_high_support_high_grade_percentage=very_high_support_high_grade/(very_high_support_low_grade+very_high_support_high_grade)*100\n",
        "print(very_high_support_high_grade_percentage,high_support_high_grade_percentage,medium_support_high_grade_percentage,low_support_high_grade_percentage,very_low_support_high_grade_percentage)"
      ]
    },
    {
      "cell_type": "code",
      "execution_count": null,
      "id": "74b3c35e-7ba4-47d4-85c9-d7168872fdae",
      "metadata": {
        "id": "74b3c35e-7ba4-47d4-85c9-d7168872fdae",
        "outputId": "ab97b852-d48f-4ae7-f1b7-b44a72312b0f",
        "colab": {
          "base_uri": "https://localhost:8080/",
          "height": 584
        }
      },
      "outputs": [
        {
          "output_type": "display_data",
          "data": {
            "text/plain": [
              "<Figure size 800x600 with 1 Axes>"
            ],
            "image/png": "[encoded data removed]"
          },
          "metadata": {}
        }
      ],
      "source": [
        "categories = ['Very Low Support','Low Support', 'Medium Support', 'High Support','Very High Support']\n",
        "values = [very_low_support_high_grade_percentage,low_support_high_grade_percentage, medium_support_high_grade_percentage, high_support_high_grade_percentage,very_high_support_high_grade_percentage]\n",
        "\n",
        "# Create bar plot\n",
        "plt.figure(figsize=(8, 6))\n",
        "plt.bar(categories, values, color = ['#ffeda0', '#feb24c', '#fd8d3c', '#f03b20', '#bd0026'])\n",
        "\n",
        "# Add title and labels\n",
        "plt.title('Support Categories (%)')\n",
        "plt.xlabel('Support Levels')\n",
        "plt.ylabel('Percentage (%) of students scoring more than average GPA')\n",
        "\n",
        "# Display the plot\n",
        "plt.show()\n"
      ]
    },
    {
      "cell_type": "markdown",
      "id": "5c55762e-78d8-4e76-bf4a-09a49af9ba82",
      "metadata": {
        "id": "5c55762e-78d8-4e76-bf4a-09a49af9ba82"
      },
      "source": [
        "### We can notice that a higher percentage of students with final GPA above average have very higher parental support"
      ]
    },
    {
      "cell_type": "code",
      "execution_count": null,
      "id": "b3deb23f-7d0f-4259-b273-5fe75c03d3a6",
      "metadata": {
        "id": "b3deb23f-7d0f-4259-b273-5fe75c03d3a6",
        "outputId": "cbf3c655-b4dc-4db4-b729-b09e919fb0a3",
        "colab": {
          "base_uri": "https://localhost:8080/",
          "height": 584
        }
      },
      "outputs": [
        {
          "output_type": "display_data",
          "data": {
            "text/plain": [
              "<Figure size 800x600 with 1 Axes>"
            ],
            "image/png": "[encoded data removed]"
          },
          "metadata": {}
        }
      ],
      "source": [
        "categories = ['Very Low Support','Low Support', 'Medium Support', 'High Support','Very High Support']\n",
        "values = [very_low_support_low_grade_percentage,low_support_low_grade_percentage, medium_support_low_grade_percentage, high_support_low_grade_percentage,very_high_support_low_grade_percentage]\n",
        "\n",
        "# Create bar plot\n",
        "plt.figure(figsize=(8, 6))\n",
        "plt.bar(categories, values, color=['#ffeda0', '#feb24c', '#fd8d3c', '#f03b20', '#bd0026'])\n",
        "\n",
        "# Add title and labels\n",
        "plt.title('Support Categories (%)')\n",
        "plt.xlabel('Support Levels')\n",
        "plt.ylabel('Percentage (%) of students scoring less than average GPA')\n",
        "\n",
        "# Display the plot\n",
        "plt.show()\n"
      ]
    },
    {
      "cell_type": "markdown",
      "id": "a07a6653-9578-4d8f-86be-dc3d9d590d03",
      "metadata": {
        "id": "a07a6653-9578-4d8f-86be-dc3d9d590d03"
      },
      "source": [
        "### We can notice that a higher percentage of students with final GPA below average have very lower parental support"
      ]
    },
    {
      "cell_type": "code",
      "execution_count": null,
      "id": "67bca19c-77c4-433d-8069-e1f0e2cb6b6a",
      "metadata": {
        "id": "67bca19c-77c4-433d-8069-e1f0e2cb6b6a",
        "outputId": "8ff8fc4a-fc53-40d4-ea00-21efa37158f1",
        "colab": {
          "base_uri": "https://localhost:8080/"
        }
      },
      "outputs": [
        {
          "output_type": "stream",
          "name": "stdout",
          "text": [
            "14.54138795986622\n",
            "29\n",
            "0\n"
          ]
        }
      ],
      "source": [
        "mean_absence=data['Absences'].mean()\n",
        "print(mean_absence)\n",
        "print(data['Absences'].max())\n",
        "print(data['Absences'].min())"
      ]
    },
    {
      "cell_type": "code",
      "execution_count": null,
      "id": "54351130-4a2d-4283-81cf-e39c67818c8c",
      "metadata": {
        "id": "54351130-4a2d-4283-81cf-e39c67818c8c",
        "outputId": "bb9cfb71-5357-4cfd-c174-4b562682fe02",
        "colab": {
          "base_uri": "https://localhost:8080/"
        }
      },
      "outputs": [
        {
          "output_type": "execute_result",
          "data": {
            "text/plain": [
              "348"
            ]
          },
          "metadata": {},
          "execution_count": 27
        }
      ],
      "source": [
        "len(data[(data['Absences']<data['Absences'].mean()) & (data['ParentalSupport']==3)])"
      ]
    },
    {
      "cell_type": "code",
      "execution_count": null,
      "id": "e36ec6ed-4e2a-47ec-a966-95d7e1093cdc",
      "metadata": {
        "id": "e36ec6ed-4e2a-47ec-a966-95d7e1093cdc",
        "outputId": "c11a55c2-1da2-47da-df8f-faee76dec63c",
        "colab": {
          "base_uri": "https://localhost:8080/"
        }
      },
      "outputs": [
        {
          "output_type": "execute_result",
          "data": {
            "text/plain": [
              "362"
            ]
          },
          "metadata": {},
          "execution_count": 28
        }
      ],
      "source": [
        "len(data[(data['Absences']<data['Absences'].mean()) & (data['ParentalSupport']==2)])"
      ]
    },
    {
      "cell_type": "code",
      "execution_count": null,
      "id": "909df630-7125-4457-b84b-e908cf2649af",
      "metadata": {
        "id": "909df630-7125-4457-b84b-e908cf2649af",
        "outputId": "eada9631-5386-4e03-e9f9-a3166c0dad0a",
        "colab": {
          "base_uri": "https://localhost:8080/"
        }
      },
      "outputs": [
        {
          "output_type": "execute_result",
          "data": {
            "text/plain": [
              "253"
            ]
          },
          "metadata": {},
          "execution_count": 29
        }
      ],
      "source": [
        "len(data[(data['Absences']<data['Absences'].mean()) & (data['ParentalSupport']==1)])"
      ]
    },
    {
      "cell_type": "code",
      "execution_count": null,
      "id": "423cfadf-6706-4115-bee4-f0c96162ab39",
      "metadata": {
        "id": "423cfadf-6706-4115-bee4-f0c96162ab39",
        "outputId": "5dd427c5-1920-4441-b5db-fb10948b42f2",
        "colab": {
          "base_uri": "https://localhost:8080/",
          "height": 562
        }
      },
      "outputs": [
        {
          "output_type": "display_data",
          "data": {
            "text/plain": [
              "<Figure size 800x600 with 1 Axes>"
            ],
            "image/png": "[encoded data removed]"
          },
          "metadata": {}
        }
      ],
      "source": [
        "low_attendance_very_high_support = len(data[(data['Absences']>mean_absence) & (data['ParentalSupport']==4)])/(len(data[(data['Absences']>mean_absence) & (data['ParentalSupport']==4)])+len(data[(data['Absences']<mean_absence) & (data['ParentalSupport']==4)]))\n",
        "low_attendance_high_support = len(data[(data['Absences']>mean_absence) & (data['ParentalSupport']==3)])/(len(data[(data['Absences']>mean_absence) & (data['ParentalSupport']==3)])+len(data[(data['Absences']<mean_absence) & (data['ParentalSupport']==3)]))\n",
        "low_attendance_medium_support = len(data[(data['Absences']>mean_absence) & (data['ParentalSupport']==2)])/(len(data[(data['Absences']>mean_absence) & (data['ParentalSupport']==2)])+len(data[(data['Absences']<mean_absence) & (data['ParentalSupport']==2)]))\n",
        "low_attendance_low_support = len(data[(data['Absences']>mean_absence) & (data['ParentalSupport']==1)])/(len(data[(data['Absences']>mean_absence) & (data['ParentalSupport']==1)])+len(data[(data['Absences']<mean_absence) & (data['ParentalSupport']==1)]))\n",
        "low_attendance_very_low_support = len(data[(data['Absences']>mean_absence) & (data['ParentalSupport']==0)])/(len(data[(data['Absences']>mean_absence) & (data['ParentalSupport']==0)])+len(data[(data['Absences']<mean_absence) & (data['ParentalSupport']==0)]))\n",
        "\n",
        "x = ['Very High','High', 'Medium', 'Low','Very Low']\n",
        "y=[low_attendance_very_high_support,low_attendance_high_support, low_attendance_medium_support, low_attendance_low_support,low_attendance_very_low_support]\n",
        "plt.bar(x, y, color=['#8c510a', '#d8b365', '#f6e8c3', '#c7eae5', '#5ab4ac'], width=0.5)\n",
        "plt.rcParams[\"figure.figsize\"] = (8, 6)\n",
        "plt.xlabel('Levels of Parental Support')\n",
        "plt.ylabel('Number of Students with lower attendance rate')\n",
        "plt.show()"
      ]
    },
    {
      "cell_type": "markdown",
      "id": "a13e33ac-b037-49eb-ab04-dae21ee3c11a",
      "metadata": {
        "id": "a13e33ac-b037-49eb-ab04-dae21ee3c11a"
      },
      "source": [
        "### We can notice that attendance rate of students does not depend on level of parental support"
      ]
    },
    {
      "cell_type": "code",
      "execution_count": null,
      "id": "f980f241-a9e8-4f6d-8224-fe79086acd58",
      "metadata": {
        "id": "f980f241-a9e8-4f6d-8224-fe79086acd58",
        "outputId": "f7ba3940-36ac-486e-a844-2a7d7047e47d",
        "colab": {
          "base_uri": "https://localhost:8080/",
          "height": 562
        }
      },
      "outputs": [
        {
          "output_type": "display_data",
          "data": {
            "text/plain": [
              "<Figure size 800x600 with 1 Axes>"
            ],
            "image/png": "[encoded data removed]"
          },
          "metadata": {}
        }
      ],
      "source": [
        "more_than_3_GradeClass = data[data['GradeClass']>3]['StudyTimeWeekly'].mean()\n",
        "from_2_to_3_GradeClass = data[(data['GradeClass']>2) & (data['GradeClass']<=3)]['StudyTimeWeekly'].mean()\n",
        "from_1_to_2_GradeClass = data[(data['GradeClass']>=1) & (data['GradeClass']<=2)]['StudyTimeWeekly'].mean()\n",
        "less_than_1_GradeClass = data[data['GradeClass']<1]['StudyTimeWeekly'].mean()\n",
        "\n",
        "x = ['Above 3', 'Between 2 & 3', 'Between 1 & 2', 'Below 1']\n",
        "y= [more_than_3_GradeClass, from_2_to_3_GradeClass, from_1_to_2_GradeClass, less_than_1_GradeClass]\n",
        "\n",
        "plt.bar(x, y, color=[\"#072D44\", \"#064469\", \"#5790AB\", \"#9CCDDB\"], width=0.7)\n",
        "plt.rcParams[\"figure.figsize\"] = (8, 6)\n",
        "plt.xlabel('Final Grade')\n",
        "plt.ylabel('Study Hours Per Week')\n",
        "plt.show()"
      ]
    },
    {
      "cell_type": "markdown",
      "id": "c9161f7b-68a6-4803-b728-fcd9e487d223",
      "metadata": {
        "id": "c9161f7b-68a6-4803-b728-fcd9e487d223"
      },
      "source": [
        "### From above plot, we can notice that students with final grade class above 3(Low grade) have smallest study hours per week"
      ]
    },
    {
      "cell_type": "code",
      "execution_count": null,
      "id": "0d5ffba1-1e0e-4833-92c8-21eecb202a15",
      "metadata": {
        "id": "0d5ffba1-1e0e-4833-92c8-21eecb202a15",
        "outputId": "c86dd9ef-78f7-43bc-8bd1-b636873501d1",
        "colab": {
          "base_uri": "https://localhost:8080/",
          "height": 579
        }
      },
      "outputs": [
        {
          "output_type": "stream",
          "name": "stdout",
          "text": [
            "2.983695652173913\n"
          ]
        },
        {
          "output_type": "display_data",
          "data": {
            "text/plain": [
              "<Figure size 800x600 with 1 Axes>"
            ],
            "image/png": "[encoded data removed]"
          },
          "metadata": {}
        }
      ],
      "source": [
        "mean_Grade_class=data['GradeClass'].mean()\n",
        "print(mean_Grade_class)\n",
        "high_final_grades = data[data['GradeClass']<mean_Grade_class]['Absences'].mean()\n",
        "low_final_grades = data[data['GradeClass']>mean_Grade_class]['Absences'].mean()\n",
        "\n",
        "x = ['Low', 'High']\n",
        "y = [low_final_grades, high_final_grades]\n",
        "\n",
        "plt.bar(x, y, color=[\"#5790AB\", \"#064469\"], width=0.4)\n",
        "plt.rcParams[\"figure.figsize\"] = (6, 6)\n",
        "plt.xlabel('GradeClass')\n",
        "plt.ylabel('Absences')\n",
        "plt.show()"
      ]
    },
    {
      "cell_type": "markdown",
      "id": "cf92a430-ab49-4180-9654-46577661e6fd",
      "metadata": {
        "id": "cf92a430-ab49-4180-9654-46577661e6fd"
      },
      "source": [
        "### From above plot,we can notice that students with high grade class have less number of absence compared to those having low grade class"
      ]
    },
    {
      "cell_type": "code",
      "execution_count": null,
      "id": "1e4b4446-d742-417f-912e-8a7e01987ef1",
      "metadata": {
        "id": "1e4b4446-d742-417f-912e-8a7e01987ef1",
        "outputId": "6dc895bb-0e19-4bc3-c080-f90749e3e068",
        "colab": {
          "base_uri": "https://localhost:8080/",
          "height": 562
        }
      },
      "outputs": [
        {
          "output_type": "display_data",
          "data": {
            "text/plain": [
              "<Figure size 800x600 with 1 Axes>"
            ],
            "image/png": "[encoded data removed]"
          },
          "metadata": {}
        }
      ],
      "source": [
        "males_studying_hours = (data[data['Gender']==0]['StudyTimeWeekly']>data['StudyTimeWeekly'].mean()).sum()\n",
        "females_studying_hours = (data[data['Gender']==1]['StudyTimeWeekly']>data['StudyTimeWeekly'].mean()).sum()\n",
        "\n",
        "x = ['Males', 'Females']\n",
        "y = [males_studying_hours, females_studying_hours]\n",
        "\n",
        "plt.bar(x, y, color=[\"#072D44\", \"#5790AB\"], width=0.4)\n",
        "plt.rcParams[\"figure.figsize\"] = (6, 6)\n",
        "plt.xlabel('Gender')\n",
        "plt.ylabel('Number of students scoring more than average Study time Per Week')\n",
        "plt.show()"
      ]
    },
    {
      "cell_type": "markdown",
      "id": "64116432-5641-4e93-856a-e094197c1844",
      "metadata": {
        "id": "64116432-5641-4e93-856a-e094197c1844"
      },
      "source": [
        "### From above plot,we can notice that study time per week is larger for females"
      ]
    },
    {
      "cell_type": "code",
      "execution_count": null,
      "id": "e60a2563-28d8-4c62-9fad-f0bd79f648a7",
      "metadata": {
        "id": "e60a2563-28d8-4c62-9fad-f0bd79f648a7",
        "outputId": "25fcf649-ddb7-435a-ff44-d75bfc2712c4",
        "colab": {
          "base_uri": "https://localhost:8080/",
          "height": 562
        }
      },
      "outputs": [
        {
          "output_type": "display_data",
          "data": {
            "text/plain": [
              "<Figure size 600x600 with 1 Axes>"
            ],
            "image/png": "[encoded data removed]"
          },
          "metadata": {}
        }
      ],
      "source": [
        "mean_gpa=data['GPA'].mean()\n",
        "males_scoring_more_than_average_grade_class = (data[data['Gender']==0]['GradeClass']>mean_gpa).sum()\n",
        "females_scoring_more_than_average_grade_class = (data[data['Gender']==1]['GradeClass']>mean_gpa).sum()\n",
        "\n",
        "x = ['Males', 'Females']\n",
        "y = [males_scoring_more_than_average_grade_class, females_scoring_more_than_average_grade_class]\n",
        "\n",
        "plt.bar(x, y, color=[\"#072D44\", \"#5790AB\"], width=0.4)\n",
        "plt.rcParams[\"figure.figsize\"] = (6, 6)\n",
        "plt.xlabel('Gender')\n",
        "plt.ylabel('Number of students scoring more than average grade')\n",
        "plt.show()"
      ]
    },
    {
      "cell_type": "markdown",
      "id": "37ed53d8-64a6-40d6-bf55-cb530adca5f6",
      "metadata": {
        "id": "37ed53d8-64a6-40d6-bf55-cb530adca5f6"
      },
      "source": [
        "### From above plot,we can notice that number of students who is scoring more than average gpa is larger for females"
      ]
    },
    {
      "cell_type": "code",
      "execution_count": null,
      "id": "c3f490e0-9878-4a64-be26-698fce999669",
      "metadata": {
        "id": "c3f490e0-9878-4a64-be26-698fce999669",
        "outputId": "688f22d1-aefe-4294-fd80-1a40934e2da2",
        "colab": {
          "base_uri": "https://localhost:8080/",
          "height": 562
        }
      },
      "outputs": [
        {
          "output_type": "display_data",
          "data": {
            "text/plain": [
              "<Figure size 600x600 with 1 Axes>"
            ],
            "image/png": "[encoded data removed]"
          },
          "metadata": {}
        }
      ],
      "source": [
        "activities_more_than_3_gradeclass = data[['Extracurricular', 'Sports', 'Music', 'Volunteering']][data['GradeClass'] > 3].sum().sum()\n",
        "activities_from_2_to_3_gradeclass = data[['Extracurricular', 'Sports', 'Music', 'Volunteering']][(data['GradeClass'] <= 3) & (data['GradeClass'] > 2)].sum().sum()\n",
        "activities_from_1_to_2_gradeclass = data[['Extracurricular', 'Sports', 'Music', 'Volunteering']][(data['GradeClass'] <= 2) & (data['GradeClass'] > 1)].sum().sum()\n",
        "activities_less_than_1_gradeclass = data[['Extracurricular', 'Sports', 'Music', 'Volunteering']][data['GradeClass']<1].sum().sum()\n",
        "\n",
        "x=[\"Above 3\",\"Between 2 and 3\",\"Between 1 and 2\",\"Below 1\"]\n",
        "y=[activities_more_than_3_gradeclass,activities_from_2_to_3_gradeclass,activities_from_1_to_2_gradeclass,activities_less_than_1_gradeclass]\n",
        "plt.bar(x, y, color=[\"#9CCDDB\",\"#5790AB\", \"#064469\",\"#072D44\"], width=0.5)\n",
        "plt.rcParams[\"figure.figsize\"] = (8, 6)\n",
        "plt.xlabel('Grade Class')\n",
        "plt.ylabel('Number of Extracurricular Activities')\n",
        "plt.show()"
      ]
    },
    {
      "cell_type": "markdown",
      "id": "d12ec078-d262-46e2-8463-3b2e1c100d23",
      "metadata": {
        "id": "d12ec078-d262-46e2-8463-3b2e1c100d23"
      },
      "source": [
        "### Students scoring less grade(above 3) involved in large number of extracurricular activities,while those scoring higher grade(below 1) involved in less number of extracurricular activities"
      ]
    },
    {
      "cell_type": "code",
      "execution_count": null,
      "id": "291e1242-cba1-4446-8369-ea003994ec08",
      "metadata": {
        "id": "291e1242-cba1-4446-8369-ea003994ec08"
      },
      "outputs": [],
      "source": []
    }
  ],
  "metadata": {
    "kernelspec": {
      "display_name": "Python 3 (ipykernel)",
      "language": "python",
      "name": "python3"
    },
    "language_info": {
      "codemirror_mode": {
        "name": "ipython",
        "version": 3
      },
      "file_extension": ".py",
      "mimetype": "text/x-python",
      "name": "python",
      "nbconvert_exporter": "python",
      "pygments_lexer": "ipython3",
      "version": "3.12.4"
    },
    "colab": {
      "provenance": []
    }
  },
  "nbformat": 4,
  "nbformat_minor": 5
}